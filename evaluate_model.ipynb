{
 "cells": [
  {
   "cell_type": "code",
   "execution_count": 20,
   "metadata": {},
   "outputs": [],
   "source": [
    "from api_helper import * \n",
    "import random\n",
    "from torchtext import data\n",
    "\n",
    "import os\n",
    "DIR = os.getcwd()"
   ]
  },
  {
   "cell_type": "code",
   "execution_count": 21,
   "metadata": {},
   "outputs": [],
   "source": [
    "trainloc = os.path.join(DIR, 'results/resultssquad_train.csv')\n",
    "valloc = os.path.join(DIR, 'dataset/validation_set.csv')\n",
    "testloc = os.path.join(DIR, 'dataset/test_set.csv')"
   ]
  },
  {
   "cell_type": "code",
   "execution_count": 22,
   "metadata": {},
   "outputs": [],
   "source": [
    "train_data, valid_data, test_data = data.TabularDataset.splits(path = '',train=trainloc, validation=valloc,\n",
    "                                 test=testloc, fields = fields, format='csv', skip_header=True)"
   ]
  },
  {
   "cell_type": "code",
   "execution_count": 35,
   "metadata": {},
   "outputs": [
    {
     "name": "stdout",
     "output_type": "stream",
     "text": [
      "['what is another term for the cultural group'] when was the heyday of secular non - arab nationalism ?\n"
     ]
    },
    {
     "ename": "TypeError",
     "evalue": "\"reference\" expects pre-tokenized reference (Iterable[str]): what is another term for the cultural group",
     "output_type": "error",
     "traceback": [
      "\u001b[0;31m---------------------------------------------------------------------------\u001b[0m",
      "\u001b[0;31mTypeError\u001b[0m                                 Traceback (most recent call last)",
      "\u001b[1;32m/Users/sunilthapa/Desktop/automatic-question-generation-master/evaluate_model.ipynb Cell 4\u001b[0m line \u001b[0;36m3\n\u001b[1;32m     <a href='vscode-notebook-cell:/Users/sunilthapa/Desktop/automatic-question-generation-master/evaluate_model.ipynb#W4sZmlsZQ%3D%3D?line=32'>33</a>\u001b[0m     \u001b[39mreturn\u001b[39;00m bleu_score, meteor_score\n\u001b[1;32m     <a href='vscode-notebook-cell:/Users/sunilthapa/Desktop/automatic-question-generation-master/evaluate_model.ipynb#W4sZmlsZQ%3D%3D?line=34'>35</a>\u001b[0m \u001b[39m# Example usage:\u001b[39;00m\n\u001b[0;32m---> <a href='vscode-notebook-cell:/Users/sunilthapa/Desktop/automatic-question-generation-master/evaluate_model.ipynb#W4sZmlsZQ%3D%3D?line=35'>36</a>\u001b[0m bleu_score, meteor_score \u001b[39m=\u001b[39m calculate_bleu_and_meteor(test_data, model)\n\u001b[1;32m     <a href='vscode-notebook-cell:/Users/sunilthapa/Desktop/automatic-question-generation-master/evaluate_model.ipynb#W4sZmlsZQ%3D%3D?line=37'>38</a>\u001b[0m \u001b[39mprint\u001b[39m(\u001b[39m'\u001b[39m\u001b[39mBLEU score = \u001b[39m\u001b[39m{:.2f}\u001b[39;00m\u001b[39m'\u001b[39m\u001b[39m.\u001b[39mformat(bleu_score \u001b[39m*\u001b[39m \u001b[39m100\u001b[39m))\n\u001b[1;32m     <a href='vscode-notebook-cell:/Users/sunilthapa/Desktop/automatic-question-generation-master/evaluate_model.ipynb#W4sZmlsZQ%3D%3D?line=38'>39</a>\u001b[0m \u001b[39mprint\u001b[39m(\u001b[39m'\u001b[39m\u001b[39mMETEOR score = \u001b[39m\u001b[39m{:.2f}\u001b[39;00m\u001b[39m'\u001b[39m\u001b[39m.\u001b[39mformat(meteor_score \u001b[39m*\u001b[39m \u001b[39m100\u001b[39m))\n",
      "\u001b[1;32m/Users/sunilthapa/Desktop/automatic-question-generation-master/evaluate_model.ipynb Cell 4\u001b[0m line \u001b[0;36m2\n\u001b[1;32m     <a href='vscode-notebook-cell:/Users/sunilthapa/Desktop/automatic-question-generation-master/evaluate_model.ipynb#W4sZmlsZQ%3D%3D?line=25'>26</a>\u001b[0m     trgs\u001b[39m.\u001b[39mappend([trg])  \u001b[39m# Wrap trg in a list, as corpus_bleu expects a list of references for each hypothesis\u001b[39;00m\n\u001b[1;32m     <a href='vscode-notebook-cell:/Users/sunilthapa/Desktop/automatic-question-generation-master/evaluate_model.ipynb#W4sZmlsZQ%3D%3D?line=26'>27</a>\u001b[0m     \u001b[39mprint\u001b[39m([\u001b[39m'\u001b[39m\u001b[39m \u001b[39m\u001b[39m'\u001b[39m\u001b[39m.\u001b[39mjoin(pred_trg)], \u001b[39m'\u001b[39m\u001b[39m \u001b[39m\u001b[39m'\u001b[39m\u001b[39m.\u001b[39mjoin(trg))\n\u001b[0;32m---> <a href='vscode-notebook-cell:/Users/sunilthapa/Desktop/automatic-question-generation-master/evaluate_model.ipynb#W4sZmlsZQ%3D%3D?line=27'>28</a>\u001b[0m     meteor_scores\u001b[39m.\u001b[39mappend(single_meteor_score(\u001b[39m'\u001b[39m\u001b[39m \u001b[39m\u001b[39m'\u001b[39m\u001b[39m.\u001b[39mjoin(pred_trg), [\u001b[39m'\u001b[39m\u001b[39m \u001b[39m\u001b[39m'\u001b[39m\u001b[39m.\u001b[39mjoin(trg), ]))\n\u001b[1;32m     <a href='vscode-notebook-cell:/Users/sunilthapa/Desktop/automatic-question-generation-master/evaluate_model.ipynb#W4sZmlsZQ%3D%3D?line=29'>30</a>\u001b[0m bleu_score \u001b[39m=\u001b[39m corpus_bleu(trgs, pred_trgs)\n\u001b[1;32m     <a href='vscode-notebook-cell:/Users/sunilthapa/Desktop/automatic-question-generation-master/evaluate_model.ipynb#W4sZmlsZQ%3D%3D?line=30'>31</a>\u001b[0m \u001b[39m# meteor_score = np.mean(meteor_scores)\u001b[39;00m\n",
      "File \u001b[0;32m~/anaconda3/lib/python3.11/site-packages/nltk/translate/meteor_score.py:326\u001b[0m, in \u001b[0;36msingle_meteor_score\u001b[0;34m(reference, hypothesis, preprocess, stemmer, wordnet, alpha, beta, gamma)\u001b[0m\n\u001b[1;32m    282\u001b[0m \u001b[39mdef\u001b[39;00m \u001b[39msingle_meteor_score\u001b[39m(\n\u001b[1;32m    283\u001b[0m     reference: Iterable[\u001b[39mstr\u001b[39m],\n\u001b[1;32m    284\u001b[0m     hypothesis: Iterable[\u001b[39mstr\u001b[39m],\n\u001b[0;32m   (...)\u001b[0m\n\u001b[1;32m    290\u001b[0m     gamma: \u001b[39mfloat\u001b[39m \u001b[39m=\u001b[39m \u001b[39m0.5\u001b[39m,\n\u001b[1;32m    291\u001b[0m ) \u001b[39m-\u001b[39m\u001b[39m>\u001b[39m \u001b[39mfloat\u001b[39m:\n\u001b[1;32m    292\u001b[0m \u001b[39m    \u001b[39m\u001b[39m\"\"\"\u001b[39;00m\n\u001b[1;32m    293\u001b[0m \u001b[39m    Calculates METEOR score for single hypothesis and reference as per\u001b[39;00m\n\u001b[1;32m    294\u001b[0m \u001b[39m    \"Meteor: An Automatic Metric for MT Evaluation with HighLevels of\u001b[39;00m\n\u001b[0;32m   (...)\u001b[0m\n\u001b[1;32m    324\u001b[0m \u001b[39m    :return: The sentence-level METEOR score.\u001b[39;00m\n\u001b[1;32m    325\u001b[0m \u001b[39m    \"\"\"\u001b[39;00m\n\u001b[0;32m--> 326\u001b[0m     enum_hypothesis, enum_reference \u001b[39m=\u001b[39m _generate_enums(\n\u001b[1;32m    327\u001b[0m         hypothesis, reference, preprocess\u001b[39m=\u001b[39mpreprocess\n\u001b[1;32m    328\u001b[0m     )\n\u001b[1;32m    329\u001b[0m     translation_length \u001b[39m=\u001b[39m \u001b[39mlen\u001b[39m(enum_hypothesis)\n\u001b[1;32m    330\u001b[0m     reference_length \u001b[39m=\u001b[39m \u001b[39mlen\u001b[39m(enum_reference)\n",
      "File \u001b[0;32m~/anaconda3/lib/python3.11/site-packages/nltk/translate/meteor_score.py:38\u001b[0m, in \u001b[0;36m_generate_enums\u001b[0;34m(hypothesis, reference, preprocess)\u001b[0m\n\u001b[1;32m     33\u001b[0m     \u001b[39mraise\u001b[39;00m \u001b[39mTypeError\u001b[39;00m(\n\u001b[1;32m     34\u001b[0m         \u001b[39mf\u001b[39m\u001b[39m'\u001b[39m\u001b[39m\"\u001b[39m\u001b[39mhypothesis\u001b[39m\u001b[39m\"\u001b[39m\u001b[39m expects pre-tokenized hypothesis (Iterable[str]): \u001b[39m\u001b[39m{\u001b[39;00mhypothesis\u001b[39m}\u001b[39;00m\u001b[39m'\u001b[39m\n\u001b[1;32m     35\u001b[0m     )\n\u001b[1;32m     37\u001b[0m \u001b[39mif\u001b[39;00m \u001b[39misinstance\u001b[39m(reference, \u001b[39mstr\u001b[39m):\n\u001b[0;32m---> 38\u001b[0m     \u001b[39mraise\u001b[39;00m \u001b[39mTypeError\u001b[39;00m(\n\u001b[1;32m     39\u001b[0m         \u001b[39mf\u001b[39m\u001b[39m'\u001b[39m\u001b[39m\"\u001b[39m\u001b[39mreference\u001b[39m\u001b[39m\"\u001b[39m\u001b[39m expects pre-tokenized reference (Iterable[str]): \u001b[39m\u001b[39m{\u001b[39;00mreference\u001b[39m}\u001b[39;00m\u001b[39m'\u001b[39m\n\u001b[1;32m     40\u001b[0m     )\n\u001b[1;32m     42\u001b[0m enum_hypothesis_list \u001b[39m=\u001b[39m \u001b[39mlist\u001b[39m(\u001b[39menumerate\u001b[39m(\u001b[39mmap\u001b[39m(preprocess, hypothesis)))\n\u001b[1;32m     43\u001b[0m enum_reference_list \u001b[39m=\u001b[39m \u001b[39mlist\u001b[39m(\u001b[39menumerate\u001b[39m(\u001b[39mmap\u001b[39m(preprocess, reference)))\n",
      "\u001b[0;31mTypeError\u001b[0m: \"reference\" expects pre-tokenized reference (Iterable[str]): what is another term for the cultural group"
     ]
    }
   ],
   "source": [
    "import numpy as np\n",
    "from nltk.translate.bleu_score import corpus_bleu\n",
    "from nltk.translate.meteor_score import single_meteor_score\n",
    "\n",
    "def calculate_bleu_and_meteor(data, model):\n",
    "\n",
    "    trgs = []\n",
    "    pred_trgs = []\n",
    "    meteor_scores = []\n",
    "\n",
    "    for datum in data:\n",
    "\n",
    "        src = vars(datum)['context']\n",
    "        trg = vars(datum)['question']\n",
    "        ans = vars(datum)['bio']\n",
    "        lex = vars(datum)['lex']\n",
    "        try:\n",
    "            pred_trg, _ = predict_question(model, src, ans, lex)\n",
    "        except:\n",
    "            continue\n",
    "\n",
    "        # Cut off <EOS> token\n",
    "        pred_trg = pred_trg[:-1]\n",
    "\n",
    "        pred_trgs.append(pred_trg)\n",
    "        trgs.append([trg])  # Wrap trg in a list, as corpus_bleu expects a list of references for each hypothesis\n",
    "        print([' '.join(pred_trg)], ' '.join(trg))\n",
    "        meteor_scores.append(single_meteor_score(' '.join(pred_trg), ' '.join(trg)))\n",
    "\n",
    "    bleu_score = corpus_bleu(trgs, pred_trgs)\n",
    "    # meteor_score = np.mean(meteor_scores)\n",
    "\n",
    "    return bleu_score, meteor_score\n",
    "\n",
    "# Example usage:\n",
    "bleu_score, meteor_score = calculate_bleu_and_meteor(test_data, model)\n",
    "\n",
    "print('BLEU score = {:.2f}'.format(bleu_score * 100))\n",
    "print('METEOR score = {:.2f}'.format(meteor_score * 100))\n"
   ]
  },
  {
   "cell_type": "code",
   "execution_count": 37,
   "metadata": {},
   "outputs": [
    {
     "data": {
      "text/plain": [
       "0.0146"
      ]
     },
     "execution_count": 37,
     "metadata": {},
     "output_type": "execute_result"
    }
   ],
   "source": [
    "1.46/100"
   ]
  },
  {
   "cell_type": "code",
   "execution_count": null,
   "metadata": {},
   "outputs": [],
   "source": []
  }
 ],
 "metadata": {
  "kernelspec": {
   "display_name": "base",
   "language": "python",
   "name": "python3"
  },
  "language_info": {
   "codemirror_mode": {
    "name": "ipython",
    "version": 3
   },
   "file_extension": ".py",
   "mimetype": "text/x-python",
   "name": "python",
   "nbconvert_exporter": "python",
   "pygments_lexer": "ipython3",
   "version": "3.11.5"
  }
 },
 "nbformat": 4,
 "nbformat_minor": 2
}
